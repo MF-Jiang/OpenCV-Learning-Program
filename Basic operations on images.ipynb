{
 "cells": [
  {
   "cell_type": "markdown",
   "id": "18b22318",
   "metadata": {},
   "source": [
    "# Basic operations on images"
   ]
  },
  {
   "cell_type": "markdown",
   "id": "4bc587f7",
   "metadata": {},
   "source": [
    "## Load Images\n",
    "- cv2.IMREAD_COLOR: Color image\n",
    "- cv2.IMREAD_GRAYSCALE: Gray scale image\n",
    "\n",
    "#### 👀 The openCV read format is BGR"
   ]
  },
  {
   "cell_type": "code",
   "execution_count": 1,
   "id": "ad6900de",
   "metadata": {},
   "outputs": [],
   "source": [
    "import cv2 \n",
    "import matplotlib.pyplot as plt\n",
    "import numpy as np\n",
    "%matplotlib inline\n",
    "\n",
    "img = cv2.imread(\"./01_Picture/01_cat.jpg\")"
   ]
  },
  {
   "cell_type": "code",
   "execution_count": 2,
   "id": "fc06a0f3",
   "metadata": {
    "scrolled": false
   },
   "outputs": [
    {
     "data": {
      "text/plain": [
       "array([[[142, 151, 160],\n",
       "        [146, 155, 164],\n",
       "        [151, 160, 170],\n",
       "        ...,\n",
       "        [156, 172, 185],\n",
       "        [155, 171, 184],\n",
       "        [154, 170, 183]],\n",
       "\n",
       "       [[108, 117, 126],\n",
       "        [112, 123, 131],\n",
       "        [118, 127, 137],\n",
       "        ...,\n",
       "        [155, 171, 184],\n",
       "        [154, 170, 183],\n",
       "        [153, 169, 182]],\n",
       "\n",
       "       [[108, 119, 127],\n",
       "        [110, 123, 131],\n",
       "        [118, 128, 138],\n",
       "        ...,\n",
       "        [156, 169, 183],\n",
       "        [155, 168, 182],\n",
       "        [154, 167, 181]],\n",
       "\n",
       "       ...,\n",
       "\n",
       "       [[162, 186, 198],\n",
       "        [157, 181, 193],\n",
       "        [142, 166, 178],\n",
       "        ...,\n",
       "        [181, 204, 206],\n",
       "        [170, 193, 195],\n",
       "        [149, 172, 174]],\n",
       "\n",
       "       [[140, 164, 176],\n",
       "        [147, 171, 183],\n",
       "        [139, 163, 175],\n",
       "        ...,\n",
       "        [169, 187, 188],\n",
       "        [125, 143, 144],\n",
       "        [106, 124, 125]],\n",
       "\n",
       "       [[154, 178, 190],\n",
       "        [154, 178, 190],\n",
       "        [121, 145, 157],\n",
       "        ...,\n",
       "        [183, 198, 200],\n",
       "        [128, 143, 145],\n",
       "        [127, 142, 144]]], dtype=uint8)"
      ]
     },
     "execution_count": 2,
     "metadata": {},
     "output_type": "execute_result"
    }
   ],
   "source": [
    "img"
   ]
  },
  {
   "cell_type": "markdown",
   "id": "cf5d6ade",
   "metadata": {},
   "source": [
    "## Show Images"
   ]
  },
  {
   "cell_type": "code",
   "execution_count": 3,
   "id": "03801765",
   "metadata": {},
   "outputs": [],
   "source": [
    "# Use Windows to display images\n",
    "cv2.imshow('image', img)\n",
    "# A value of 0 indicates the window is closed by pressing any key, \n",
    "# and any other value indicates the window duration\n",
    "cv2.waitKey(0) \n",
    "cv2.destroyAllWindows()"
   ]
  },
  {
   "cell_type": "markdown",
   "id": "0b981107",
   "metadata": {},
   "source": [
    "#### Write the function that displays the images"
   ]
  },
  {
   "cell_type": "code",
   "execution_count": 4,
   "id": "c711d7ff",
   "metadata": {},
   "outputs": [],
   "source": [
    "def cv_show(name, img):\n",
    "    cv2.imshow(name, img)\n",
    "    cv2.waitKey(0)\n",
    "    cv2.destroyAllWindows()"
   ]
  },
  {
   "cell_type": "code",
   "execution_count": 5,
   "id": "dc19064d",
   "metadata": {},
   "outputs": [
    {
     "data": {
      "text/plain": [
       "(414, 500, 3)"
      ]
     },
     "execution_count": 5,
     "metadata": {},
     "output_type": "execute_result"
    }
   ],
   "source": [
    "img.shape\n",
    "# The three values in the output represent height, width, and BGR"
   ]
  },
  {
   "cell_type": "markdown",
   "id": "b85b91df",
   "metadata": {},
   "source": [
    "# Gray Scale Image"
   ]
  },
  {
   "cell_type": "code",
   "execution_count": 6,
   "id": "941b600b",
   "metadata": {},
   "outputs": [
    {
     "data": {
      "text/plain": [
       "array([[153, 157, 162, ..., 174, 173, 172],\n",
       "       [119, 124, 129, ..., 173, 172, 171],\n",
       "       [120, 124, 130, ..., 172, 171, 170],\n",
       "       ...,\n",
       "       [187, 182, 167, ..., 202, 191, 170],\n",
       "       [165, 172, 164, ..., 185, 141, 122],\n",
       "       [179, 179, 146, ..., 197, 142, 141]], dtype=uint8)"
      ]
     },
     "execution_count": 6,
     "metadata": {},
     "output_type": "execute_result"
    }
   ],
   "source": [
    "# Read image as Gray Scale Image\n",
    "img = cv2.imread(\"./01_Picture/01_cat.jpg\", cv2.IMREAD_GRAYSCALE)\n",
    "img"
   ]
  },
  {
   "cell_type": "code",
   "execution_count": 7,
   "id": "a9b7a888",
   "metadata": {},
   "outputs": [
    {
     "data": {
      "text/plain": [
       "(414, 500)"
      ]
     },
     "execution_count": 7,
     "metadata": {},
     "output_type": "execute_result"
    }
   ],
   "source": [
    "img.shape\n",
    "# The output is just height and width"
   ]
  },
  {
   "cell_type": "code",
   "execution_count": 8,
   "id": "7bf77b40",
   "metadata": {},
   "outputs": [],
   "source": [
    "# Use cv_show fuction to display the image\n",
    "cv_show(\"image\",img)"
   ]
  },
  {
   "cell_type": "code",
   "execution_count": 9,
   "id": "621513ef",
   "metadata": {},
   "outputs": [
    {
     "data": {
      "text/plain": [
       "True"
      ]
     },
     "execution_count": 9,
     "metadata": {},
     "output_type": "execute_result"
    }
   ],
   "source": [
    "# Save Image\n",
    "cv2.imwrite('GrayCat.png',img)"
   ]
  },
  {
   "cell_type": "code",
   "execution_count": 10,
   "id": "0e1b9069",
   "metadata": {},
   "outputs": [
    {
     "data": {
      "text/plain": [
       "numpy.ndarray"
      ]
     },
     "execution_count": 10,
     "metadata": {},
     "output_type": "execute_result"
    }
   ],
   "source": [
    "type(img)"
   ]
  },
  {
   "cell_type": "code",
   "execution_count": 11,
   "id": "5db6c6d1",
   "metadata": {},
   "outputs": [
    {
     "data": {
      "text/plain": [
       "207000"
      ]
     },
     "execution_count": 11,
     "metadata": {},
     "output_type": "execute_result"
    }
   ],
   "source": [
    "img.size # The number of pixels"
   ]
  },
  {
   "cell_type": "code",
   "execution_count": 12,
   "id": "a02a8ced",
   "metadata": {},
   "outputs": [
    {
     "data": {
      "text/plain": [
       "dtype('uint8')"
      ]
     },
     "execution_count": 12,
     "metadata": {},
     "output_type": "execute_result"
    }
   ],
   "source": [
    "img.dtype"
   ]
  },
  {
   "cell_type": "markdown",
   "id": "6c5843cd",
   "metadata": {},
   "source": [
    "# Load Videos\n",
    "- cv2.VideoCapture can capture the camera and control different devices with numbers such as 0,1.\n",
    "- If the video file, you can directly make a good path."
   ]
  },
  {
   "cell_type": "code",
   "execution_count": 13,
   "id": "fd1c7120",
   "metadata": {},
   "outputs": [],
   "source": [
    "vc = cv2.VideoCapture('./02_Video/00_Scenery.mp4')"
   ]
  },
  {
   "cell_type": "code",
   "execution_count": 14,
   "id": "2a1139b4",
   "metadata": {},
   "outputs": [],
   "source": [
    "# if open correctly\n",
    "if vc.isOpened():\n",
    "    open,frame = vc.read()\n",
    "else:\n",
    "    open = False"
   ]
  },
  {
   "cell_type": "code",
   "execution_count": 15,
   "id": "95265550",
   "metadata": {},
   "outputs": [],
   "source": [
    "while open:\n",
    "    ret, frame = vc.read()\n",
    "    if frame is None:\n",
    "        break\n",
    "    if ret == True:\n",
    "        gray = cv2.cvtColor(frame, cv2.COLOR_BGR2GRAY)\n",
    "        cv2.imshow('Video', gray)\n",
    "        if cv2.waitKey(10) & 0xFF == 27:\n",
    "            break\n",
    "\n",
    "vc.release()\n",
    "cv2.destroyAllWindows()"
   ]
  },
  {
   "cell_type": "code",
   "execution_count": null,
   "id": "95f9fb8d",
   "metadata": {},
   "outputs": [],
   "source": []
  }
 ],
 "metadata": {
  "kernelspec": {
   "display_name": "Python 3 (ipykernel)",
   "language": "python",
   "name": "python3"
  },
  "language_info": {
   "codemirror_mode": {
    "name": "ipython",
    "version": 3
   },
   "file_extension": ".py",
   "mimetype": "text/x-python",
   "name": "python",
   "nbconvert_exporter": "python",
   "pygments_lexer": "ipython3",
   "version": "3.9.12"
  }
 },
 "nbformat": 4,
 "nbformat_minor": 5
}
